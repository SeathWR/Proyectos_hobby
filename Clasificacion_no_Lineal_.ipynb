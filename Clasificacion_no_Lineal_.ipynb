{
  "nbformat": 4,
  "nbformat_minor": 0,
  "metadata": {
    "colab": {
      "provenance": [],
      "include_colab_link": true
    },
    "kernelspec": {
      "name": "python3",
      "display_name": "Python 3"
    },
    "language_info": {
      "name": "python"
    }
  },
  "cells": [
    {
      "cell_type": "markdown",
      "metadata": {
        "id": "view-in-github",
        "colab_type": "text"
      },
      "source": [
        "<a href=\"https://colab.research.google.com/github/SeathWR/Proyectos_hobby/blob/main/Clasificacion_no_Lineal_.ipynb\" target=\"_parent\"><img src=\"https://colab.research.google.com/assets/colab-badge.svg\" alt=\"Open In Colab\"/></a>"
      ]
    },
    {
      "cell_type": "markdown",
      "source": [
        "# Metodos de clasificacion no lineal"
      ],
      "metadata": {
        "id": "SUQiezw6IWEI"
      }
    },
    {
      "cell_type": "code",
      "source": [
        "# Cargamos dependencias\n",
        "\n",
        "!pip install -U scikit-learn\n",
        "\n",
        "import sklearn"
      ],
      "metadata": {
        "colab": {
          "base_uri": "https://localhost:8080/"
        },
        "id": "cbFLz2CEIyiL",
        "outputId": "44a4ca0f-bace-4d40-9a50-78f843e58a8b"
      },
      "execution_count": null,
      "outputs": [
        {
          "output_type": "stream",
          "name": "stdout",
          "text": [
            "Requirement already satisfied: scikit-learn in /usr/local/lib/python3.10/dist-packages (1.3.2)\n",
            "Collecting scikit-learn\n",
            "  Downloading scikit_learn-1.5.1-cp310-cp310-manylinux_2_17_x86_64.manylinux2014_x86_64.whl.metadata (12 kB)\n",
            "Requirement already satisfied: numpy>=1.19.5 in /usr/local/lib/python3.10/dist-packages (from scikit-learn) (1.25.2)\n",
            "Requirement already satisfied: scipy>=1.6.0 in /usr/local/lib/python3.10/dist-packages (from scikit-learn) (1.13.1)\n",
            "Requirement already satisfied: joblib>=1.2.0 in /usr/local/lib/python3.10/dist-packages (from scikit-learn) (1.4.2)\n",
            "Requirement already satisfied: threadpoolctl>=3.1.0 in /usr/local/lib/python3.10/dist-packages (from scikit-learn) (3.5.0)\n",
            "Downloading scikit_learn-1.5.1-cp310-cp310-manylinux_2_17_x86_64.manylinux2014_x86_64.whl (13.4 MB)\n",
            "\u001b[2K   \u001b[90m━━━━━━━━━━━━━━━━━━━━━━━━━━━━━━━━━━━━━━━━\u001b[0m \u001b[32m13.4/13.4 MB\u001b[0m \u001b[31m32.5 MB/s\u001b[0m eta \u001b[36m0:00:00\u001b[0m\n",
            "\u001b[?25hInstalling collected packages: scikit-learn\n",
            "  Attempting uninstall: scikit-learn\n",
            "    Found existing installation: scikit-learn 1.3.2\n",
            "    Uninstalling scikit-learn-1.3.2:\n",
            "      Successfully uninstalled scikit-learn-1.3.2\n",
            "Successfully installed scikit-learn-1.5.1\n"
          ]
        }
      ]
    },
    {
      "cell_type": "code",
      "source": [
        "# Libreria Basicas\n",
        "\n",
        "import numpy as np\n",
        "import pandas as pd\n",
        "\n",
        "# librerias de visualizacion\n",
        "\n",
        "import matplotlib as mlp\n",
        "import matplotlib.pyplot as plt\n",
        "import seaborn as sns\n",
        "\n",
        "# visualizacion con grafos graphviz\n",
        "\n",
        "import graphviz"
      ],
      "metadata": {
        "id": "HPiYsc9sJQfc"
      },
      "execution_count": null,
      "outputs": []
    },
    {
      "cell_type": "code",
      "source": [
        "from ast import increment_lineno\n",
        "# librerias de los modulos a usar\n",
        "\n",
        "import warnings\n",
        "warnings.simplefilter(action='ignore')\n",
        "\n",
        "# configuracion de visualizacion\n",
        "\n",
        "%matplotlib inline\n",
        "%config InlineBackend.figure_format = 'retina'\n",
        "\n",
        "mlp.rcParams['figure.dpi']= 105\n",
        "mlp.rcParams['figure.figsize']= (9,7)"
      ],
      "metadata": {
        "id": "Weg2-5NiJvWu"
      },
      "execution_count": null,
      "outputs": []
    },
    {
      "cell_type": "markdown",
      "source": [
        "# Funciones de Visualizacion"
      ],
      "metadata": {
        "id": "4r2d0q_hJut0"
      }
    },
    {
      "cell_type": "code",
      "source": [
        "# Funcion de visualizacion de conjunto de datos en un plano 2D\n",
        "\n",
        "def plot_data(X, y, model = None, ax =None, title=None):\n",
        "\n",
        "  if ax is None:\n",
        "    _, ax = plt.subplots(dpi = 110)\n",
        "\n",
        "  if model is not None:\n",
        "    pred_fun = gen_pred_fun(model)\n",
        "    plot_decision_region(X, pred_fun, ax)\n",
        "\n",
        "  y_unique = np.unique(y)\n",
        "  df = pd.DataFrame({'x1': X[:,0], 'x2': X[:,1],'Clases': y})\n",
        "  sns.set_theme()\n",
        "  sns.scatterplot(data=df, x = 'x1', y = 'x2',\n",
        "                  hue= 'Clases',style = 'Clases',ax = ax, palette = 'Set1').set_title(title)"
      ],
      "metadata": {
        "id": "wP7IaFv2LiDQ"
      },
      "execution_count": null,
      "outputs": []
    },
    {
      "cell_type": "code",
      "source": [
        "# Funcion de visualizacion de la superficie de clasificacion\n",
        "\n",
        "def plot_decision_region(X,pred_fun,ax = None):\n",
        "    min_x, max_x = np.min(X[: ,0]), np.max(X[: ,0])\n",
        "    min_y, max_y = np.min(X[: ,1]), np.max(X[: ,1])\n",
        "\n",
        "    min_x = min_x - (max_x - min_x) * 0.05\n",
        "    max_x = max_x + (max_x - min_x) * 0.05\n",
        "\n",
        "    min_y = min_y - (max_y - min_y) * 0.05\n",
        "    max_y = max_y + (max_y - min_y) * 0.05\n",
        "\n",
        "    x_vals = np.linspace(min_x, max_x, 100)\n",
        "    y_vals = np.linspace(min_y, max_y, 100)\n",
        "\n",
        "    XX , YY = np.meshgrid(x_vals,y_vals)\n",
        "    grid_r , grid_c = XX.shape\n",
        "\n",
        "    ZZ = np.zeros((grid_r,grid_c))\n",
        "\n",
        "    for i in range(grid_r):\n",
        "      for i in range(grid_c):\n",
        "        ZZ[i,j] = pred_fun (XX,[i,j], YY[i,j])\n",
        "\n",
        "    cs = ax.contourt(XX,YY,ZZ,100,cmap= plt.com.Pastel1,vmin =0, vmx= np.max(ZZ) * 9. /(np.max(ZZ)+1),Alpha= 0.75)\n",
        "    ax.get_figure().colorbar(cs, ax = ax,)\n",
        "    ax.set_xlabel(\"X\")\n",
        "    ax.set_ylabel(\"Y\")\n",
        "\n"
      ],
      "metadata": {
        "id": "qk9MVFSdOkWS"
      },
      "execution_count": null,
      "outputs": []
    },
    {
      "cell_type": "code",
      "source": [
        "# Funcion de visualizacion para la curva de aprendizaje a partir del error en entrenamiento\n",
        "\n",
        "def plot_learning_curve(train_error, generalization_error):\n",
        "  n = len(train_error)\n",
        "  if len(train_error) != len(generalization_error):\n",
        "    print('La secuencia de error de entrenamieto deben tener el mismo tamaño')\n",
        " balance_point = np.array(generalization_error).argmin() + 1\n",
        " plt.figure(figsize= (8,5),dpi = 105)\n",
        "\n",
        " plt.plot(range(1, n + 1), train_error, label= 'Entrenamiento')\n",
        " plt.plot(range(1, n + 1), generalization_error, label = 'Generalizacion')\n",
        " plt.xticks (range( 0,n + 1,2))\n",
        " plt.xlabel('Profundidad Maxima')\n",
        " plt.ylabel('Error')\n",
        " y_min , y_max = plt.gca().get_ylim()\n",
        " plt.vlines(balance_point, y_min, y_max, colors =['red'], linestyles= ['dashdot'])\n",
        " plt.ylim(y_min, y_max)\n",
        " plt.tex(balance_point + 1, 0.165, 'Punto de balance')\n",
        " plt.legend():"
      ],
      "metadata": {
        "colab": {
          "base_uri": "https://localhost:8080/",
          "height": 106
        },
        "id": "d3cyTCkQbSx_",
        "outputId": "9066503d-6143-42f8-c85e-f4d924524700"
      },
      "execution_count": null,
      "outputs": [
        {
          "output_type": "error",
          "ename": "IndentationError",
          "evalue": "unindent does not match any outer indentation level (<tokenize>, line 7)",
          "traceback": [
            "\u001b[0;36m  File \u001b[0;32m\"<tokenize>\"\u001b[0;36m, line \u001b[0;32m7\u001b[0m\n\u001b[0;31m    balance_point = np.array(generalization_error).argmin() + 1\u001b[0m\n\u001b[0m    ^\u001b[0m\n\u001b[0;31mIndentationError\u001b[0m\u001b[0;31m:\u001b[0m unindent does not match any outer indentation level\n"
          ]
        }
      ]
    },
    {
      "cell_type": "code",
      "source": [
        "# Funcion para generar la funcion de prediccion entrenado previamente\n",
        "\n",
        "def gen_pred_fun(clf):\n",
        "  def pred_fun(x1,x2):\n",
        "    x = np.array([x1,x2])\n",
        "    return clf.predict(x)[0]\n",
        "  return pred_fun"
      ],
      "metadata": {
        "id": "HeiOTyiDemdh"
      },
      "execution_count": null,
      "outputs": []
    },
    {
      "cell_type": "markdown",
      "source": [
        "## Conjunto de datos  iris"
      ],
      "metadata": {
        "id": "Zbdhk-cifXng"
      }
    },
    {
      "cell_type": "code",
      "source": [
        "# Cargamo nuestro dataset\n",
        "\n",
        "from sklearn.datasets import load_iris\n",
        "\n",
        "iris = load_iris()\n",
        "\n",
        "x = iris.data\n",
        "y = iris.target"
      ],
      "metadata": {
        "id": "XirjXalCfdap"
      },
      "execution_count": null,
      "outputs": []
    },
    {
      "cell_type": "code",
      "source": [
        "from re import X\n",
        "# informacion general de nuestro conjunto\n",
        "\n",
        "print(f'x ~ {x.shape[0]} muestras X {x.shape[1]} caracteristicas.')\n",
        "print(f'y ~ {y.shape[0]} muestras.')\n",
        "print('\\nPrimeras 5 muestras:\\n', x[:5, :])\n",
        "print('\\nPrimeras 5 etiquetas:\\n', y[5])\n",
        "\n"
      ],
      "metadata": {
        "id": "_74GN4EOggHZ"
      },
      "execution_count": null,
      "outputs": []
    },
    {
      "cell_type": "code",
      "source": [
        "#Graficamos en un area 2D\n",
        "\n",
        "plot_data(x, y)"
      ],
      "metadata": {
        "id": "9iTsCyOhrmi1"
      },
      "execution_count": null,
      "outputs": []
    },
    {
      "cell_type": "code",
      "source": [
        "# Conjunto de datos sintetico circles\n",
        "\n",
        "from sklearn.datasets import make_circles\n",
        "\n",
        "X, y = make_circles(n_samples=600,\n",
        "                    noise=0.1,\n",
        "                    random_state=0\n",
        "                    )"
      ],
      "metadata": {
        "id": "h7CE6nQCwZn6"
      },
      "execution_count": null,
      "outputs": []
    },
    {
      "cell_type": "code",
      "source": [
        "# informacion general de nuestro conjunto\n",
        "\n",
        "print(f'x ~ {X.shape[0]} muestras x {X.shape[1]} caracteristicas.')\n",
        "print(f'y ~ {y.shape[0]} muestras.')\n",
        "print('\\nPrimeras 5 muestras:\\n', X[:5, :])\n",
        "print('\\nPrimeras 5 etiquetas:\\n', y[5])\n"
      ],
      "metadata": {
        "id": "HHP2fTZQyECP"
      },
      "execution_count": null,
      "outputs": []
    },
    {
      "cell_type": "code",
      "source": [
        "# Grafico de caracteriticas make_circle\n",
        "\n",
        "plot_data(X, y)"
      ],
      "metadata": {
        "id": "aBUenXRbzby1"
      },
      "execution_count": null,
      "outputs": []
    },
    {
      "cell_type": "code",
      "source": [
        "# Conjunto de datos moms\n",
        "\n",
        "from sklearn.datasets import make_moons\n",
        "\n",
        "X, y  = make_moons(n_samples=600,   # numero de muestras a observar\n",
        "                   noise=0.15,       # Cantidad de ruido  introducido aleatoriamente\n",
        "                   random_state=0    #semilla aleatorio\n",
        "                   )\n"
      ],
      "metadata": {
        "id": "lFPr7Opm0V8m"
      },
      "execution_count": null,
      "outputs": []
    },
    {
      "cell_type": "code",
      "source": [
        "# informacion general de nuestro conjunto\n",
        "\n",
        "print(f'x ~ {x.shape[0]} muestras X {x.shape[1]} caracteristicas.')\n",
        "print(f'y ~ {y.shape[0]} muestras.')\n",
        "print('\\nPrimeras 5 muestras:\\n', X[:5, :])\n",
        "print('\\nPrimeras 5 etiquetas:\\n', y[5])"
      ],
      "metadata": {
        "id": "FEY6u4G81P8f"
      },
      "execution_count": null,
      "outputs": []
    },
    {
      "cell_type": "code",
      "source": [
        "# Grafico de caracteriticas moons\n",
        "\n",
        "plot_data(X, y)"
      ],
      "metadata": {
        "id": "TRAKJcdu1XY5"
      },
      "execution_count": null,
      "outputs": []
    },
    {
      "cell_type": "markdown",
      "source": [
        "# Clasificador  basado en regresion  logistica"
      ],
      "metadata": {
        "id": "WvofpbiQ1-YT"
      }
    },
    {
      "cell_type": "code",
      "source": [
        "from sklearn.linear_model import LogisticRegression\n",
        "\n",
        "lr_model = LogisticRegression(multi_class='multinomial',solver='lbfgs')\n",
        "\n",
        "lr_model.fit(X,y)\n",
        "\n",
        "plot_data(X,y, lr_model)\n",
        "\n",
        "\n"
      ],
      "metadata": {
        "id": "RiXqaMzP17im"
      },
      "execution_count": null,
      "outputs": []
    },
    {
      "cell_type": "code",
      "source": [
        "print('Score:', lr_model.score(x, y))"
      ],
      "metadata": {
        "id": "OUrvGU4h2FX3"
      },
      "execution_count": null,
      "outputs": []
    },
    {
      "cell_type": "markdown",
      "source": [
        "* Nueva sección"
      ],
      "metadata": {
        "id": "H64DASl9bUXo"
      }
    },
    {
      "cell_type": "code",
      "source": [
        "# Funcion de visualizacion de conjunto de datos en un plano 2D\n",
        "\n",
        "def plot_data(X, y, model = None, ax = None, title=None):\n",
        "\n",
        "    if ax is None:\n",
        "      _, ax = plt.subplots(dpi = 110)\n",
        "\n",
        "    if model is not None:\n",
        "      pred_fun = gen_pred_fun(model)\n",
        "      plot_decision_region(X, pred_fun, ax)\n",
        "\n",
        "    y_unique = np.unique(y)\n",
        "    df = pd.DataFrame({'x1': X[:,0], 'x2': X[:,1], 'Clases': y})\n",
        "    sns.set_theme()\n",
        "    sns.scatterplot(data = df, x = 'x1', y = 'x2',\n",
        "                    hue = 'Clases',style = 'Clases',style = 'Clases', ax = ax, palette = 'Set1').set_title(title)"
      ],
      "metadata": {
        "id": "DwL38CQ0m8WD"
      },
      "execution_count": null,
      "outputs": []
    }
  ]
}